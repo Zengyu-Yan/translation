{
 "cells": [
  {
   "cell_type": "markdown",
   "metadata": {},
   "source": [
    "# Data processing"
   ]
  },
  {
   "cell_type": "code",
   "execution_count": 1,
   "metadata": {},
   "outputs": [],
   "source": [
    "import pandas as pd\n",
    "import matplotlib.pyplot as plt\n",
    "import re"
   ]
  },
  {
   "cell_type": "code",
   "execution_count": 2,
   "metadata": {},
   "outputs": [],
   "source": [
    "df = pd.read_excel('translation-data.xlsx')"
   ]
  },
  {
   "cell_type": "code",
   "execution_count": 3,
   "metadata": {},
   "outputs": [
    {
     "data": {
      "text/html": [
       "<div>\n",
       "<style scoped>\n",
       "    .dataframe tbody tr th:only-of-type {\n",
       "        vertical-align: middle;\n",
       "    }\n",
       "\n",
       "    .dataframe tbody tr th {\n",
       "        vertical-align: top;\n",
       "    }\n",
       "\n",
       "    .dataframe thead th {\n",
       "        text-align: right;\n",
       "    }\n",
       "</style>\n",
       "<table border=\"1\" class=\"dataframe\">\n",
       "  <thead>\n",
       "    <tr style=\"text-align: right;\">\n",
       "      <th></th>\n",
       "      <th>English</th>\n",
       "      <th>German</th>\n",
       "    </tr>\n",
       "  </thead>\n",
       "  <tbody>\n",
       "    <tr>\n",
       "      <th>0</th>\n",
       "      <td>\"The mask with a grinning man's face appears c...</td>\n",
       "      <td>Die Maske mit grinsendem Männergesicht wirkt d...</td>\n",
       "    </tr>\n",
       "    <tr>\n",
       "      <th>1</th>\n",
       "      <td>The WSWS posted this comment on the slanderous...</td>\n",
       "      <td>Die WSWS hatte den folgenden Kommentar zu dies...</td>\n",
       "    </tr>\n",
       "    <tr>\n",
       "      <th>2</th>\n",
       "      <td>The Haitian manner of spelling 'vodou' was int...</td>\n",
       "      <td>\"Für diese Ausstellung wurde bewusst die haiti...</td>\n",
       "    </tr>\n",
       "    <tr>\n",
       "      <th>3</th>\n",
       "      <td>The database also records new manufacturers in...</td>\n",
       "      <td>Die Datenbank nimmt bei jeder neuen Herausgabe...</td>\n",
       "    </tr>\n",
       "    <tr>\n",
       "      <th>4</th>\n",
       "      <td>Medially this situation is hushed up with just...</td>\n",
       "      <td>Medial wird diese Situation, wenige Ausnahmen ...</td>\n",
       "    </tr>\n",
       "  </tbody>\n",
       "</table>\n",
       "</div>"
      ],
      "text/plain": [
       "                                             English  \\\n",
       "0  \"The mask with a grinning man's face appears c...   \n",
       "1  The WSWS posted this comment on the slanderous...   \n",
       "2  The Haitian manner of spelling 'vodou' was int...   \n",
       "3  The database also records new manufacturers in...   \n",
       "4  Medially this situation is hushed up with just...   \n",
       "\n",
       "                                              German  \n",
       "0  Die Maske mit grinsendem Männergesicht wirkt d...  \n",
       "1  Die WSWS hatte den folgenden Kommentar zu dies...  \n",
       "2  \"Für diese Ausstellung wurde bewusst die haiti...  \n",
       "3  Die Datenbank nimmt bei jeder neuen Herausgabe...  \n",
       "4  Medial wird diese Situation, wenige Ausnahmen ...  "
      ]
     },
     "execution_count": 3,
     "metadata": {},
     "output_type": "execute_result"
    }
   ],
   "source": [
    "df.head()"
   ]
  },
  {
   "cell_type": "markdown",
   "metadata": {},
   "source": [
    "### 1. Drop duplicates and nan"
   ]
  },
  {
   "cell_type": "code",
   "execution_count": 4,
   "metadata": {},
   "outputs": [],
   "source": [
    "# drop duplicates and nan\n",
    "df.drop_duplicates(inplace=True)\n",
    "df.dropna(inplace=True)"
   ]
  },
  {
   "cell_type": "markdown",
   "metadata": {},
   "source": [
    "### 2. Remove redundant punctuation marks"
   ]
  },
  {
   "cell_type": "code",
   "execution_count": 5,
   "metadata": {},
   "outputs": [],
   "source": [
    "def clean_sent(x: str) -> str:\n",
    "    \n",
    "    \"\"\"\n",
    "    Clean the sentence, remove special character.\n",
    "\n",
    "    Args:\n",
    "        x: The sentence to be processed.\n",
    "\n",
    "    Returns:\n",
    "        The processed sentence.\n",
    "    \"\"\"\n",
    "    \n",
    "    # some sentences end with '...' or '…', first replace them with only one dot '.'\n",
    "    if x.endswith(('...','…')):\n",
    "        x = re.sub(r'\\.{3}|…$','.',x)\n",
    "        \n",
    "    # check if the sentence ends with a dot '.', a question marks '?', a exclamation mark '!' or quotation marks\n",
    "    # if the sentence does not end with any of them, add a dot to the end of the sentence\n",
    "    if not x.endswith(('.','?','!',\".'\",'.\"')):\n",
    "        x = x + '.'\n",
    "        \n",
    "    # replace special character at the begining or the end of the sentence\n",
    "    pattern = r'^[^\\w\\s.?!]*|[^\\w\\s.?!]*$'\n",
    "    x = re.sub(pattern, '', x)\n",
    "    return x        "
   ]
  },
  {
   "cell_type": "code",
   "execution_count": 6,
   "metadata": {},
   "outputs": [],
   "source": [
    "df['English'] = df['English'].apply(clean_sent)\n",
    "df['German'] = df['German'].apply(clean_sent)"
   ]
  },
  {
   "cell_type": "markdown",
   "metadata": {},
   "source": [
    "### 3. Check the length of the sentences to see if there are any outliers using histogram"
   ]
  },
  {
   "cell_type": "code",
   "execution_count": 7,
   "metadata": {},
   "outputs": [],
   "source": [
    "sentence_len_eng = df.English.apply(lambda x: len(x.split()))\n",
    "sentence_len_ger = df.German.apply(lambda x: len(x.split()))"
   ]
  },
  {
   "cell_type": "code",
   "execution_count": 8,
   "metadata": {},
   "outputs": [
    {
     "data": {
      "image/png": "[encoded data removed]",
      "text/plain": [
       "<Figure size 864x360 with 2 Axes>"
      ]
     },
     "metadata": {
      "needs_background": "light"
     },
     "output_type": "display_data"
    }
   ],
   "source": [
    "fig, (ax1, ax2) = plt.subplots(1,2, figsize=(12,5))\n",
    "ax1.hist(sentence_len_eng, alpha=0.5,label='English')\n",
    "ax1.hist(sentence_len_ger, alpha=0.5,label='German')\n",
    "ax1.legend(loc='upper right')\n",
    "ax1.set_xlabel('Sentence Length')\n",
    "ax1.set_ylabel('Count')\n",
    "\n",
    "ax2.hist([sentence_len_eng,sentence_len_ger], alpha=0.8, label=['English','German'])\n",
    "ax2.legend(loc='upper right')\n",
    "ax2.set_xlabel('Sentence Length')\n",
    "ax2.set_ylabel('Count')\n",
    "\n",
    "plt.show()"
   ]
  },
  {
   "cell_type": "code",
   "execution_count": 9,
   "metadata": {},
   "outputs": [],
   "source": [
    "# there are no outliers in the dataset\n",
    "# save processed data\n",
    "df.to_csv('cleaned_dataset.csv',index=False)"
   ]
  }
 ],
 "metadata": {
  "kernelspec": {
   "display_name": "Python 3",
   "language": "python",
   "name": "python3"
  },
  "language_info": {
   "codemirror_mode": {
    "name": "ipython",
    "version": 3
   },
   "file_extension": ".py",
   "mimetype": "text/x-python",
   "name": "python",
   "nbconvert_exporter": "python",
   "pygments_lexer": "ipython3",
   "version": "3.7.9"
  }
 },
 "nbformat": 4,
 "nbformat_minor": 4
}
